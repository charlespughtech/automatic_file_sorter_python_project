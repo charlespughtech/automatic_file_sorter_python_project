{
 "cells": [
  {
   "cell_type": "markdown",
   "id": "d7b7492e-984a-43e7-bc64-bffbb9e77bf3",
   "metadata": {},
   "source": [
    "# Automatic File Sorter in File Explorer\n",
    "### Python Project"
   ]
  },
  {
   "cell_type": "markdown",
   "id": "894a46f6-2b97-4770-bb6c-901818a09af8",
   "metadata": {},
   "source": [
    "This file sorter will enable us to sort files into folders depending on what type of file they are."
   ]
  },
  {
   "cell_type": "markdown",
   "id": "d64aac0c-f8de-4aab-9382-8271ba1dfb25",
   "metadata": {},
   "source": [
    "#### First, we will import the necessary libraries - os and shutil."
   ]
  },
  {
   "cell_type": "code",
   "execution_count": 2,
   "id": "8236606b-786d-47d6-a115-aaf484b52984",
   "metadata": {},
   "outputs": [],
   "source": [
    "import os, shutil"
   ]
  },
  {
   "cell_type": "markdown",
   "id": "75f1cc62-ae22-4b96-8d6f-f9fe1fd9aaaa",
   "metadata": {},
   "source": [
    "#### Next, we will assign the directory containing the files that we want to sort to the path variable."
   ]
  },
  {
   "cell_type": "code",
   "execution_count": 37,
   "id": "aae6547e-ad18-4ef0-ab02-36feffec6b70",
   "metadata": {},
   "outputs": [],
   "source": [
    "path = r\"C:/Users/Alicja/Desktop/Charles/family_tree/\""
   ]
  },
  {
   "cell_type": "markdown",
   "id": "2a243a13-ed6a-4cc0-9fca-5060845d1489",
   "metadata": {},
   "source": [
    "#### Then we will check what the directory contains"
   ]
  },
  {
   "cell_type": "markdown",
   "id": "31d36073-e5fc-444d-8b5a-2fdf0508af18",
   "metadata": {},
   "source": [
    "- The code below will enable us to list all of the files within the directory path.\n",
    "- It calls on the os library and uses the listdir function from it, which then lists all of the files within the directory assigned to path."
   ]
  },
  {
   "cell_type": "code",
   "execution_count": 42,
   "id": "e097a621-9536-445d-9bba-1d7e059b0c29",
   "metadata": {},
   "outputs": [],
   "source": [
    "file_names = os.listdir(path)"
   ]
  },
  {
   "cell_type": "markdown",
   "id": "44cba879-7f6b-46d5-b9a2-699d97b47d3d",
   "metadata": {},
   "source": [
    "#### Then, we will need to check if the directory in which the files are contain folders, if not, we need to create them."
   ]
  },
  {
   "cell_type": "markdown",
   "id": "2a9ebe77-499d-478d-9dda-a43646334bc9",
   "metadata": {},
   "source": [
    "We can check to see if the the folders that we need to create already exist and can do so by combining them into a list, performing a loop and running os.path.exists(path + list[loop]) over each of them by looping over all 3 items within the list."
   ]
  },
  {
   "cell_type": "code",
   "execution_count": 39,
   "id": "aa4b9e14-f3dd-4d4f-bed4-9389d93c46ec",
   "metadata": {},
   "outputs": [
    {
     "name": "stdout",
     "output_type": "stream",
     "text": [
      "C:/Users/Alicja/Desktop/Charles/family_tree/py_files\n",
      "C:/Users/Alicja/Desktop/Charles/family_tree/pdf_files\n",
      "C:/Users/Alicja/Desktop/Charles/family_tree/md_files\n"
     ]
    }
   ],
   "source": [
    "folder_names = ['py_files', 'pdf_files', 'md_files']\n",
    "\n",
    "for loop in range(0,3):\n",
    "    if not os.path.exists(path + folder_names[loop]):\n",
    "        print(path + folder_names[loop])\n",
    "        os.makedirs(path + folder_names[loop])"
   ]
  },
  {
   "cell_type": "markdown",
   "id": "07bda164-bf81-41df-9d41-e357db290188",
   "metadata": {},
   "source": [
    "The folders listed above have been successfully created"
   ]
  },
  {
   "cell_type": "markdown",
   "id": "e9ff9713-b0a3-4952-bf64-74773f23b9ee",
   "metadata": {},
   "source": [
    "#### Then we need to check each of the files individually, identify what kind of file each of the files are and then place each of them in the right folder"
   ]
  },
  {
   "cell_type": "markdown",
   "id": "e3e2e99a-305e-40db-9577-f065430c3489",
   "metadata": {},
   "source": [
    "First, we need to loop through the directory we assigned to path earlier, looping through each item it contains to check its file type.\n",
    "We check if the file type of each file exists within the file name and not within the relevant folder that we created earlier by using path.exists(), then it moves the file to that relevant folder using the shutil.move() function if it does not contain it. This process is repeated for all of the known file types and their corresponding folders within the path directory."
   ]
  },
  {
   "cell_type": "code",
   "execution_count": 44,
   "id": "5681a50a-962c-4133-816b-89e117de5959",
   "metadata": {},
   "outputs": [],
   "source": [
    "for file in file_names:\n",
    "    if \".py\" in file and not os.path.exists(path + \"py_files/\" + file):\n",
    "        shutil.move(path + file, path + \"py_files/\" + file)\n",
    "    elif \".pdf\" in file and not os.path.exists(path + \"pdf_files/\" + file):\n",
    "        shutil.move(path + file, path + \"pdf_files/\" + file)\n",
    "    elif \".md\" in file and not os.path.exists(path + \"md_files/\" + file):\n",
    "        shutil.move(path + file, path + \"md_files/\" + file)"
   ]
  }
 ],
 "metadata": {
  "kernelspec": {
   "display_name": "Python [conda env:base] *",
   "language": "python",
   "name": "conda-base-py"
  },
  "language_info": {
   "codemirror_mode": {
    "name": "ipython",
    "version": 3
   },
   "file_extension": ".py",
   "mimetype": "text/x-python",
   "name": "python",
   "nbconvert_exporter": "python",
   "pygments_lexer": "ipython3",
   "version": "3.12.7"
  },
  "panel-cell-order": [
   "0b5e2455-acdd-4653-aa37-4d442b53a96e"
  ]
 },
 "nbformat": 4,
 "nbformat_minor": 5
}
